{
 "cells": [
  {
   "cell_type": "markdown",
   "id": "1375089c",
   "metadata": {},
   "source": [
    "# Imports"
   ]
  },
  {
   "cell_type": "code",
   "execution_count": 1,
   "id": "f965bd31",
   "metadata": {},
   "outputs": [],
   "source": [
    "import joblib"
   ]
  },
  {
   "cell_type": "code",
   "execution_count": 2,
   "id": "e6d9540e",
   "metadata": {},
   "outputs": [],
   "source": [
    "# Chargement des modèles depuis le dossier 'models'\n",
    "model_RF_ADC = joblib.load(\"../models/model_RF_ADC.joblib\")\n",
    "model_RF_support = joblib.load(\"../models/model_RF_support.joblib\")\n",
    "model_RF_jungler = joblib.load(\"../models/model_RF_jungler.joblib\")\n",
    "model_RF_top = joblib.load(\"../models/model_RF_top.joblib\")\n",
    "model_RF_mid = joblib.load(\"../models/model_RF_mid.joblib\")\n",
    "df_adc = joblib.load(\"../models/df_adc.joblib\")\n",
    "df_jungler = joblib.load(\"../models/df_jungler.joblib\")\n",
    "df_mid = joblib.load(\"../models/df_mid.joblib\")\n",
    "df_support = joblib.load(\"../models/df_support.joblib\")\n",
    "df_top = joblib.load(\"../models/df_top.joblib\")\n",
    "features_Bot = joblib.load(\"../models/features_Bot.joblib\")\n",
    "features_jungler = joblib.load(\"../models/features_jungler.joblib\")\n",
    "features_mid = joblib.load(\"../models/features_mid.joblib\")\n",
    "features_support = joblib.load(\"../models/features_support.joblib\")\n",
    "features_top = joblib.load(\"../models/features_top.joblib\")\n"
   ]
  }
 ],
 "metadata": {
  "kernelspec": {
   "display_name": "Python 3",
   "language": "python",
   "name": "python3"
  },
  "language_info": {
   "codemirror_mode": {
    "name": "ipython",
    "version": 3
   },
   "file_extension": ".py",
   "mimetype": "text/x-python",
   "name": "python",
   "nbconvert_exporter": "python",
   "pygments_lexer": "ipython3",
   "version": "3.10.11"
  }
 },
 "nbformat": 4,
 "nbformat_minor": 5
}
